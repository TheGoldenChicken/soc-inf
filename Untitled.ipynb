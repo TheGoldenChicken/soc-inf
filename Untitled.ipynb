{
 "cells": [
  {
   "cell_type": "markdown",
   "id": "455626d0",
   "metadata": {},
   "source": [
    "# Part one:\n",
    "**Big:** \n",
    "\n",
    "\n",
    "\n",
    "**Always-on**\n",
    "Yes and no, regarding WallStreetBets, the GME discussion has more or less 'gone out of style' so less informative data can be collected about GME. This could be considered an interesting thing to examine, so yes you can keep collecting data forever theoretically.\n",
    "\n",
    "**Non-reactive**\n",
    "It is possibly common knowledge that Reddit is open to the public and that comments and posts can be scraped from the site freely. Still this should not make one believe that the people discussing on this forum are behaving specifically *as if* they are being observed all the time, therefore, it is fair to say, that the data is non-reactive.\n",
    "\n",
    "**Incomplete**\n",
    "While the redditors of WallStreetBets are widely considered as the main agents behind GME stocks meteoric rise, it probably does not paint the entire picture of **why** GME stock rose in price so fast. Specifically, other parties oustide WallStreetBets probably invested in the stock as well. \n",
    "\n",
    "**Inaccesible**\n",
    "While we do not know the full legality behind comment and post data on Reddit. We assume that the data, given that Reddit is a public forum, is legal and fully accessible. This is supported by the fact that no identification of any kind is required by Reddit before scraping data off their site.\n",
    "\n",
    "**Nonrepresentative**\n",
    "We assume that the conclusions drawn from the comment dataset are more useful for considering general social phenomena, since this is, after all, a very unsual development in the stock market. This could be the effect of large internet communities working together, or even a mixture of two: How internet communities can affect the stock market positively or negatively.\n",
    "\n",
    "Some parts of this dataset making it non-representetive, is the fact that not all those who browse WallStreetBets, actually comment or create posts. In this, the 'community' is far larger than it would seem. In regards to affecting the stock market, as mentioned before, not only WallStreetBets contributed to the rise of GME, even though it may have been one of the main factors. \n",
    "\n",
    "**Drifting**\n",
    "There is heavy drift present in the dataset. Most specifically, this is in the population of WallStreetBets itself. According to some sites, before the GME 'incident', WallStreetBets had around 1.8 million subscribers, which changed to around 6.6 million in just a few weeks.\n",
    "\n",
    "This means that many of the 'old guard' of WallStreetBets could have been replaced by a newer generation of redditors, only there for the GME incident, it can also be assumed that the posts and comments in the period, reflect this change.\n",
    "\n",
    "In particular when studying the amount of comments and posts over time, the drift in the dataset could easily explain some part of the increased comment and post amount.\n",
    "\n",
    "**Algorithmically confounded**\n",
    "The data is not strictly algorithmically confounded in the way of inaccesible data due to reddit itself. More, is is algorithmically confounded due to reddit promoting popular posts and media. Any subject on Reddit can be seen as kind of a positive feedback loop, where one subject becoming popular, leads to more people seeing that particular subject and making posts of it.\n",
    "\n",
    "Additionally, any popular posts are brought to the 'hot' page of a subreddit, which is the default thing most people see on reddit. Therefore, comments are more likely to be made on already popular posts, than new posts. This skews especially data when looking at what posters or commentors are the most popular, although does little to skew the overall picture of amount of comments per day\n",
    "\n",
    "**Dirty**\n",
    "There are a number of factors contributing to making the dataset dirty:\n",
    "\n",
    "- Spammers: It can be reasoned, that a quickly popular subreddit such as WallStreetBets attracts a number of spammers who do not contribute valuable data tot he site itself\n",
    "- Uninformative comments/posts. Many comments on reddit do not actually reflect anything useful being said, despite not explicitly being spamming.\n",
    "- Bot comments/posts: There are a number of bots on reddit, generating automatic responses to either rule breaking or by simple user requesting. This can also fall under spamming, but is less intentonal.\n",
    "- Moderation: Some posts or comments are deleted by moderators due to not follwing specific rules. While likely 'fair' in the given context, it muddies the actual picture of how many people comment or post every day.\n",
    "\n",
    "**Sensitive**\n",
    "Since only posts and comments are downloaded, which are public domain anyway, it is unlikely there is any especially sensitive pieces of data. The only possiblity of this, would be if the comments themselves hold sensetive information. \n",
    "\n",
    "Some information can argued are sensitive, like if users write about their personal finances. Even so, again, this is WallStreetBets, that is literally why the site was started, and most 'sensitive' data is shared willingly by the people on the site."
   ]
  },
  {
   "cell_type": "code",
   "execution_count": null,
   "id": "75a1319e",
   "metadata": {},
   "outputs": [],
   "source": [
    "\n",
    "Part 4: Properties of the real-world network of Redditors\n",
    "\n",
    "For this part of the assignment, consider the directed network of redditors posting about GME on r/wallstreetbets in the period included between Jan 1st and Dec 31st, 2020 (the one you built in Week 3, Part 3).\n",
    "\n",
    "    Part 4.1 Random Network: Create a Random Network as a null model to investigate some properties of the Redditors Network.\n",
    "\n",
    "        Compute the value of p such that the number of expected edges of the random network equals the number of edges in the redditor network (see equation 3.2 in your Network Science Book). What is the value of p? Compute the average value of the degree < k > (using the formula).\n",
    "        Create a Random network with the same number of nodes as the redditor networks, and p as computed above. Generate a random network by linking nodes in every possible pair with probability p.\n",
    "        Visualize the Redditors Network and the Random Network. Comment on the differences between the two.\n",
    "\n",
    "    Part 4.2 Clustering: Compare the clustering coefficient in the Redditors Network and its random counterpart.\n",
    "\n",
    "        Compute the clustering coefficient for all nodes in the random network, using the formula 2.15 in your book.\n",
    "        Compute the average clustering across nodes of the random network. Is it consistent with the analytical prediction (network science book equation 3.21)?\n",
    "        Compute the average clustering coefficient for the Redditors network. How does it compare to its random counterpart? Is it something you would expect? Why?\n",
    "\n"
   ]
  },
  {
   "cell_type": "code",
   "execution_count": null,
   "id": "ff4a95f8",
   "metadata": {},
   "outputs": [],
   "source": []
  }
 ],
 "metadata": {
  "kernelspec": {
   "display_name": "Python 3 (ipykernel)",
   "language": "python",
   "name": "python3"
  },
  "language_info": {
   "codemirror_mode": {
    "name": "ipython",
    "version": 3
   },
   "file_extension": ".py",
   "mimetype": "text/x-python",
   "name": "python",
   "nbconvert_exporter": "python",
   "pygments_lexer": "ipython3",
   "version": "3.8.10"
  }
 },
 "nbformat": 4,
 "nbformat_minor": 5
}
