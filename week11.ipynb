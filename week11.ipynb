{
 "cells": [
  {
   "cell_type": "code",
   "execution_count": 1,
   "id": "8f9c931e",
   "metadata": {},
   "outputs": [],
   "source": [
    "import psaw\n",
    "import datetime\n",
    "import pandas as pd\n",
    "import numpy as np\n",
    "import matplotlib.pyplot as plt\n",
    "\n",
    "api = psaw.PushshiftAPI()"
   ]
  },
  {
   "cell_type": "code",
   "execution_count": 2,
   "id": "e42ddc6e",
   "metadata": {},
   "outputs": [],
   "source": [
    "sub = \"wallstreetbets\"\n",
    "\n",
    "date1 = int(datetime.datetime(2020,1,1).timestamp())\n",
    "date2 = int(datetime.datetime(2021,1,25).timestamp())\n",
    "\n",
    "query1 = \"GME\"\n",
    "query2 = \"Gamestop\""
   ]
  },
  {
   "cell_type": "code",
   "execution_count": 3,
   "id": "d03fa528",
   "metadata": {},
   "outputs": [],
   "source": [
    "# Create generator object which generates each submission as it goes\n",
    "gen = api.search_submissions(subreddit=sub,\n",
    "                            after=date1,\n",
    "                            before=date2,\n",
    "                            q='GME|Gamestop')\n"
   ]
  },
  {
   "cell_type": "code",
   "execution_count": 4,
   "id": "495a873b",
   "metadata": {},
   "outputs": [
    {
     "name": "stderr",
     "output_type": "stream",
     "text": [
      "/home/dayman/.local/lib/python3.8/site-packages/psaw/PushshiftAPI.py:252: UserWarning: Not all PushShift shards are active. Query results may be incomplete\n",
      "  warnings.warn(shards_down_message)\n"
     ]
    }
   ],
   "source": [
    "# Warning, this thing takes time!!\n",
    "results = list(gen)"
   ]
  },
  {
   "cell_type": "code",
   "execution_count": 37,
   "id": "7f275bbc",
   "metadata": {},
   "outputs": [],
   "source": [
    "# title, ID, score, creation_date, author, num_comments\n",
    "columns = [\"title\", \"id\", \"score\", \"created_utc\", \"author\", \"num_comments\"]\n",
    "\n",
    "# Get the dictionary which holds relevant information for each\n",
    "# Make it a pandas dataframe\n",
    "req_submissions = pd.DataFrame([post.d_ for post in results])\n",
    "data  = np.array(req_submissions[columns])\n",
    "\n",
    "print(data[data[:,2] > 1])\n"
   ]
  },
  {
   "cell_type": "code",
   "execution_count": null,
   "id": "9b12c455",
   "metadata": {},
   "outputs": [],
   "source": [
    "# Plotting\n",
    "\n",
    "def to_integer(dt_time):\n",
    "    return 10000*dt_time.year + 100*dt_time.month + dt_time.day\n",
    "\n",
    "from datetime import date, timedelta\n",
    "\n",
    "start_date = datetime.datetime.utcfromtimestamp(date1)\n",
    "end_date = datetime.datetime.utcfromtimestamp(date2)\n",
    "\n",
    "delta = end_date - start_date   # returns timedelta\n",
    "\n",
    "days = []\n",
    "for i in range(delta.days + 1):\n",
    "    day = start_date + timedelta(days=i)\n",
    "    days.append(day)\n",
    "\n",
    "print(type(days[0]))    \n",
    "\n",
    "day_ints = [to_integer(i) for i in days]\n"
   ]
  },
  {
   "cell_type": "code",
   "execution_count": 100,
   "id": "23ae5d0b",
   "metadata": {},
   "outputs": [
    {
     "name": "stdout",
     "output_type": "stream",
     "text": [
      "[0, 1, 1, 0, 0, 0, 1, 0, 0, 1, 0, 0, 0, 2, 2, 2, 0, 0, 0, 1, 0, 1, 0, 0, 8, 1, 0, 1, 0, 0, 1, 0, 1, 9, 0, 0, 0, 3, 1, 0, 1, 0, 0, 0, 1, 1, 0, 0, 0, 2, 1, 1, 1, 1, 0, 0, 0, 2, 2, 0, 1, 0, 0, 0, 0, 1, 0, 0, 0, 3, 3, 2, 1, 2, 0, 0, 4, 1, 4, 5, 9, 9, 11, 2, 1, 7, 7, 8, 2, 2, 1, 3, 1, 1, 3, 1, 1, 2, 0, 1, 4, 0, 0, 0, 2, 12, 4, 1, 4, 0, 1, 2, 1, 6, 4, 0, 0, 0, 4, 2, 3, 2, 0, 0, 1, 0, 0, 0, 0, 1, 0, 0, 0, 0, 0, 0, 0, 0, 0, 1, 0, 0, 0, 0, 0, 0, 1, 0, 1, 0, 0, 2, 1, 1, 1, 0, 1, 2, 2, 1, 3, 6, 10, 5, 0, 1, 0, 0, 0, 2, 2, 0, 0, 0, 1, 0, 0, 0, 0, 0, 0, 0, 0, 1, 0, 1, 0, 0, 0, 0, 0, 0, 0, 0, 0, 0, 0, 2, 0, 0, 0, 0, 0, 1, 0, 0, 0, 0, 0, 0, 0, 0, 3, 0, 1, 0, 0, 3, 2, 0, 0, 0, 0, 0, 0, 1, 0, 0, 0, 0, 0, 0, 1, 0, 2, 0, 0, 1, 0, 0, 0, 3, 0, 0, 6, 5, 9, 7, 4, 1, 0, 0, 7, 5, 3, 0, 1, 1, 2, 4, 7, 10, 9, 4, 1, 3, 11, 3, 4, 11, 2, 2, 0, 4, 2, 3, 2, 1, 1, 2, 4, 3, 39, 53, 17, 15, 17, 14, 13, 32, 35, 6, 6, 7, 8, 12, 12, 9, 7, 11, 17, 25, 21, 24, 12, 2, 1, 2, 5, 5, 0, 0, 5, 1, 13, 9, 8, 13, 4, 7, 9, 13, 9, 7, 11, 19, 7, 12, 8, 18, 26, 26, 61, 80, 109, 259, 153, 78, 32, 47, 35, 32, 51, 89, 112, 39, 33, 22, 15, 38, 36, 27, 25, 25, 18, 17, 42, 124, 156, 90, 40, 52, 68, 119, 128, 99, 158, 68, 63, 47, 105, 83, 75, 45, 65, 41, 47, 141, 66, 734, 861, 989, 413, 284, 503, 837, 675, 765, 2137, 1159, 938]\n"
     ]
    },
    {
     "data": {
      "image/png": "[encoded data removed]",
      "text/plain": [
       "<Figure size 432x288 with 1 Axes>"
      ]
     },
     "metadata": {
      "needs_background": "light"
     },
     "output_type": "display_data"
    }
   ],
   "source": [
    "#print(to_integer(datetime.datetime.utcfromtimestamp(data[:,3])))\n",
    "\n",
    "post_dates = np.array([to_integer(datetime.datetime.utcfromtimestamp(i[3])) for i in data])\n",
    "\n",
    "num_dates = [len(post_dates[post_dates == i]) for i in day_ints]\n",
    "\n",
    "print((num_dates))\n",
    "#print(len(day_ints))\n",
    "\n",
    "randed = np.random.permutation(days)\n",
    "plt.plot(days, num_dates)\n",
    "plt.show()\n",
    "\n",
    "\n",
    "#day_ints_posts = [data[i,3] for  i in data]\n",
    "#day_ints_posts = [to_integer(datetime.datetime.utcfromtimestamp(data[i,3])) for i in data]\n"
   ]
  },
  {
   "cell_type": "code",
   "execution_count": 109,
   "id": "be902803",
   "metadata": {
    "scrolled": false
   },
   "outputs": [
    {
     "name": "stderr",
     "output_type": "stream",
     "text": [
      "C:\\Users\\karlm\\anaconda3\\lib\\site-packages\\psaw\\PushshiftAPI.py:252: UserWarning: Not all PushShift shards are active. Query results may be incomplete\n",
      "  warnings.warn(shards_down_message)\n"
     ]
    },
    {
     "data": {
      "text/plain": [
       "14715"
      ]
     },
     "execution_count": 109,
     "metadata": {},
     "output_type": "execute_result"
    }
   ],
   "source": [
    "gen = api.search_submissions(subreddit=sub,\n",
    "                            after=date1,\n",
    "                            before=date2,\n",
    "                            q='GME|Gamestop')\n",
    "results=list(gen)\n",
    "len(results)"
   ]
  },
  {
   "cell_type": "code",
   "execution_count": 123,
   "id": "3cbe22ec",
   "metadata": {},
   "outputs": [
    {
     "data": {
      "text/plain": [
       "generator"
      ]
     },
     "execution_count": 123,
     "metadata": {},
     "output_type": "execute_result"
    }
   ],
   "source": [
    "comments = api.search_comments(subreddit=sub, after=date1,before=date2,q=\"GME|Gamestop\")"
   ]
  },
  {
   "cell_type": "code",
   "execution_count": null,
   "id": "2f67331f",
   "metadata": {},
   "outputs": [],
   "source": [
    "keys_comments = ['id', 'link_id', 'score', 'created_utc', 'author', 'parent_id']\n",
    "\n",
    "df_comments = pd.DataFrame(columns=keys_comments)\n",
    "df_comments.to_csv('data_comments.csv', index=False)\n",
    "\n",
    "\n",
    "for link_id in tqdm(df_subs['id']):\n",
    "    comments = api.search_comments(subreddit='wallstreetbets',\n",
    "                                    link_id=link_id)\n",
    "\n",
    "    df_comments = pd.DataFrame([ {key: obj.d_[key] for key in keys_comments} for obj in comments])\n",
    "    \n",
    "    #print(df_comments)\n",
    "    \n",
    "    df_comments.to_csv('data_comments.csv', mode='a', index=False, header=False)\n"
   ]
  },
  {
   "cell_type": "code",
   "execution_count": null,
   "id": "d9d00bb8",
   "metadata": {},
   "outputs": [],
   "source": []
  }
 ],
 "metadata": {
  "kernelspec": {
   "display_name": "Python 3 (ipykernel)",
   "language": "python",
   "name": "python3"
  },
  "language_info": {
   "codemirror_mode": {
    "name": "ipython",
    "version": 3
   },
   "file_extension": ".py",
   "mimetype": "text/x-python",
   "name": "python",
   "nbconvert_exporter": "python",
   "pygments_lexer": "ipython3",
   "version": "3.8.10"
  }
 },
 "nbformat": 4,
 "nbformat_minor": 5
}
