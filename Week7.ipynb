{
 "cells": [
  {
   "cell_type": "markdown",
   "metadata": {},
   "source": [
    "# Overview of Today's class"
   ]
  },
  {
   "cell_type": "markdown",
   "metadata": {},
   "source": [
    "And now let's move to the main part of the class. The plan for today is to work on Sentiment Analysis. As usual, we will first focus a bit on the theory, and then apply what we have learnt through some exercises. Here is an overview of the programme:\n",
    "> * Part 1: __Introduction to Sentiment Analysis__\n",
    "> * Part 2: __Dictionary-based methods__\n",
    "> * Part 3: __Wordshifts__\n",
    "> * Part 4: __Project Assignment__"
   ]
  },
  {
   "cell_type": "markdown",
   "metadata": {},
   "source": [
    "# Part 1: Intro to Sentiment Analysis"
   ]
  },
  {
   "cell_type": "markdown",
   "metadata": {},
   "source": [
    "Let's start with a short introduction to sentiment analysis. You will learn what is sentiment analysis, what we use it for, and what are the main methods for sentiment analysis. "
   ]
  },
  {
   "cell_type": "markdown",
   "metadata": {},
   "source": [
    " \n",
    "> **Video lecture**: [Intro to Sentiment Analysis](https://www.youtube.com/watch?v=QXfE0Dxb_0c&ab_channel=LauraAlessandretti)"
   ]
  },
  {
   "cell_type": "code",
   "execution_count": 1,
   "metadata": {
    "scrolled": true
   },
   "outputs": [
    {
     "data": {
      "image/jpeg": "[encoded data removed]",
      "text/html": [
       "\n",
       "        <iframe\n",
       "            width=\"800\"\n",
       "            height=\"450\"\n",
       "            src=\"https://www.youtube.com/embed/QXfE0Dxb_0c\"\n",
       "            frameborder=\"0\"\n",
       "            allowfullscreen\n",
       "            \n",
       "        ></iframe>\n",
       "        "
      ],
      "text/plain": [
       "<IPython.lib.display.YouTubeVideo at 0x7f0dfc6abf70>"
      ]
     },
     "execution_count": 1,
     "metadata": {},
     "output_type": "execute_result"
    }
   ],
   "source": [
    "from IPython.display import YouTubeVideo\n",
    "YouTubeVideo(\"QXfE0Dxb_0c\",width=800, height=450)"
   ]
  },
  {
   "cell_type": "markdown",
   "metadata": {},
   "source": [
    "And now let's continue with some reading. I suggest you to have a look at the paper below, where the authors show how they build the labMT dictionary for sentiment analysis and used it to study Twitter data. There is __no need for you to read it all__. Just read through the abstracts, have a look at the figures, and get a sense for the methodology.\n",
    "> **Reading**: [Temporal Patterns of Happiness and Information in a Global Social Network: Hedonometrics and Twitter](https://journals.plos.org/plosone/article?id=10.1371/journal.pone.0026752)\n",
    "\n",
    "Don't forget to have a look at the interactive [Hedonometer](http://hedonometer.org/), which is built using the method described in the paper."
   ]
  },
  {
   "cell_type": "markdown",
   "metadata": {},
   "source": [
    "> _Exercise 1: Exploring the LabMT dataset_ \n",
    ">    1. Download the labMT dictionary from [here](https://hedonometer.org/words/labMT-en-v2). \n",
    ">    2. Explain in your own words __how it was collected__. You can find the information [in the original paper, section 2.2](https://journals.plos.org/plosone/article?id=10.1371/journal.pone.0026752)\n",
    ">    3. Explore the labMT data. \n",
    "        * What are the top 10 words by happiness score, and the bottom 10? Does this surprise you?\n",
    "        * What are the top 20 controversial words (those for which annotators' ratings disagree the most)? Why do you think they are controversial?\n",
    "        * Plot the histogram showing words sentiment according to the labMT data. Do you notice anything that you find surprising? Does the labMT data support the _\"Pollyanna hypothesis\"_ in psychology? And how? [This article](https://www.pnas.org/content/112/8/2389) is a good starting point to read about the Pollyanna hypothesis.\n",
    ">    4. Using the labMT data, create a function that, given a document (list of tokens), returns the corresponding \"Happiness Score\" (see equation 1 in the article). Words that do not exist in the labMT dataset can be ignored."
   ]
  },
  {
   "cell_type": "markdown",
   "metadata": {},
   "source": [
    "The vocabulary was constructed from a bunch of corpora on the internet: Twitter, music lyrics and google books.\n",
    "\n",
    "These words were then rated by Mechanical turks such that each person rated 100 words at random. Each word got 50 independent evaluations, each evaluation was on an integer scale from 1 to 9."
   ]
  },
  {
   "cell_type": "code",
   "execution_count": 109,
   "metadata": {},
   "outputs": [],
   "source": [
    "import pandas as pd\n",
    "import numpy as np\n",
    "import os\n",
    "import matplotlib.pyplot as plt\n",
    "import re\n",
    "from tqdm import tqdm\n",
    "from datetime import datetime"
   ]
  },
  {
   "cell_type": "code",
   "execution_count": 70,
   "metadata": {},
   "outputs": [],
   "source": [
    "data = pd.read_csv(os.getcwd() + '/Hedonometer.csv')"
   ]
  },
  {
   "cell_type": "code",
   "execution_count": 71,
   "metadata": {},
   "outputs": [
    {
     "name": "stdout",
     "output_type": "stream",
     "text": [
      "Top 10 words are \n",
      " 0     laughter\n",
      "1    happiness\n",
      "2         love\n",
      "3        happy\n",
      "4      laughed\n",
      "5        laugh\n",
      "6     laughing\n",
      "7    excellent\n",
      "8       laughs\n",
      "9          joy\n",
      "Name: Word, dtype: object\n",
      "\n",
      "Bottom 10 words are \n",
      " 10178             ncov19\n",
      "10179           outbreak\n",
      "10180           pandemic\n",
      "10181         quarantine\n",
      "10182        quarantined\n",
      "10183          sanitizer\n",
      "10184    self-quarantine\n",
      "10185         ventilator\n",
      "10186        ventilators\n",
      "Name: Word, dtype: object\n",
      "\n",
      "Most controversial words \n",
      "                Word  Standard Deviation of Ratings\n",
      "8389        fucking                           2.93\n",
      "9211         fuckin                           2.74\n",
      "9417         fucked                           2.71\n",
      "7990          pussy                           2.67\n",
      "3768        whiskey                           2.64\n",
      "9410           slut                           2.63\n",
      "9600     cigarettes                           2.60\n",
      "8991           fuck                           2.58\n",
      "8748      mortality                           2.55\n",
      "9715      cigarette                           2.52\n",
      "9997  motherfuckers                           2.47\n",
      "3799       churches                           2.46\n",
      "9933  motherfucking                           2.46\n",
      "6379     capitalism                           2.45\n",
      "8963           porn                           2.43\n",
      "1514         summer                           2.39\n",
      "2912           beer                           2.39\n",
      "9707      execution                           2.39\n",
      "1828          wines                           2.37\n",
      "9127        zombies                           2.37\n"
     ]
    }
   ],
   "source": [
    "print(\"Top 10 words are \\n\", data['Word'][:10])\n",
    "print()\n",
    "print(\"Bottom 10 words are \\n\", data['Word'][-9:])\n",
    "print()\n",
    "print(\"Most controversial words \\n\",\n",
    "      data.nlargest(20, 'Standard Deviation of Ratings')[['Word', 'Standard Deviation of Ratings']])"
   ]
  },
  {
   "cell_type": "code",
   "execution_count": 72,
   "metadata": {
    "scrolled": false
   },
   "outputs": [
    {
     "data": {
      "text/plain": [
       "[]"
      ]
     },
     "execution_count": 72,
     "metadata": {},
     "output_type": "execute_result"
    },
    {
     "data": {
      "image/png": "[encoded data removed]",
      "text/plain": [
       "<Figure size 432x288 with 1 Axes>"
      ]
     },
     "metadata": {
      "needs_background": "light"
     },
     "output_type": "display_data"
    }
   ],
   "source": [
    "# Plot Histogram\n",
    "\n",
    "xs = data['Happiness Score']\n",
    "\n",
    "plt.hist(xs, bins=40)\n",
    "plt.plot()"
   ]
  },
  {
   "cell_type": "code",
   "execution_count": 73,
   "metadata": {},
   "outputs": [],
   "source": [
    "dic = data.set_index('Word')\n",
    "\n",
    "def get_happiness_score(text):\n",
    "    happiness = 0\n",
    "    #text = text.spit()\n",
    "    for word in text:\n",
    "        happiness += dic.loc[word]['Happiness Score']\n",
    "    happiness = happiness/len(text)"
   ]
  },
  {
   "cell_type": "markdown",
   "metadata": {},
   "source": [
    "# Part 2:  Dictionary-based methods."
   ]
  },
  {
   "cell_type": "markdown",
   "metadata": {},
   "source": [
    "The goal for this part of the class is to use the labMT data for studying happiness over time on _r/wallstreetbets_, building on dictionary-based methods. We will re-use some of the code from last week. So, make sure you have it at hand."
   ]
  },
  {
   "cell_type": "markdown",
   "metadata": {},
   "source": [
    "> _Exercise 2: Dictionary-based method to study sentiment on r/wallstreetbets_ \n",
    "\n",
    "\n",
    ">    1. Open the _wallstreetbets submissions dataframe_ we used in Week 6 (my version is [here](https://github.com/lalessan/comsocsci2021/blob/master/data/wallstreet_subs.csv.gz)).\n",
    ">    2. Tokenize the _text_ of each submission (use the code you created in Week 6, exercise 3, point 2). Add it in a new column of your dataframe called \"tokens\".\n",
    ">    3. Create one document per day in the dataset, containing all tokens for that day. Plot the length of the document (number of tokens) over time. Are documents long enough for using a dictionary-based method? As a rule-of-thumb  that 10,000 words are enough to score with a sentiment dictionary confidently ([Source here](https://epjdatascience.springeropen.com/articles/10.1140/epjds/s13688-017-0121-9)).\n",
    ">    4. Plot the average daily happiness on r/wallstreetbets using the function you created in step 3 (remember the video lesson in Week 2, for plotting nice time-series).\n",
    ">    5. Compare happiness on _r/wallstreetbets_ to happiness on Twitter using the [hedonometer](http://hedonometer.org/timeseries/en_all/?from=2019-09-16&to=2021-03-15). What is (approximatively) the average value of the two time-series? How do you explain any difference between the two?\n",
    ">    6. Download the daily Close price of the [S&P 500 Index](https://finance.yahoo.com/quote/%5EGSPC/history?p=%5EGSPC) and plot it over time. This index measures the stock performance of 500 large companies listed on stock exchanges in the United States, you can read more about it in the [S&P 500 Wikipedia page](https://en.wikipedia.org/wiki/S%26P_500).\n",
    ">    7. Compare the figures you created in steps 8. and 10. What do you observe? \n",
    ">    8. Discuss the limitations of your analysis. "
   ]
  },
  {
   "cell_type": "code",
   "execution_count": 75,
   "metadata": {},
   "outputs": [],
   "source": [
    "current_dir = os.getcwd()\n",
    "gme_data = pd.read_csv(current_dir + '/data/wallstreet_subs.csv')\n",
    "gme_data['text'] =  gme_data['title'] + \" \" +  gme_data['selftext'] \n",
    "stock_tickers = pd.read_csv(current_dir + '/data/nasdaq_screener_1646818494779.csv')"
   ]
  },
  {
   "cell_type": "code",
   "execution_count": 106,
   "metadata": {
    "scrolled": true
   },
   "outputs": [
    {
     "name": "stderr",
     "output_type": "stream",
     "text": [
      "100%|███████████████████████████████████| 82242/82242 [01:09<00:00, 1178.10it/s]\n"
     ]
    }
   ],
   "source": [
    "from nltk.corpus import stopwords\n",
    "from nltk.tokenize import word_tokenize\n",
    "\n",
    "tokenized = []\n",
    "# This runs in O(1) time\n",
    "stop_words = set(stopwords.words('english'))\n",
    "for sub in tqdm(gme_data['text']):\n",
    "    tokens = word_tokenize(sub.lower())\n",
    "    tokens = [i for i in tokens if  i not in stop_words\n",
    "          and re.match('^[a-z]+$', i)]\n",
    "\n",
    "    tokenized.append(tokens)\n",
    "\n",
    "gme_data['tokenized'] = tokenized"
   ]
  },
  {
   "cell_type": "code",
   "execution_count": 124,
   "metadata": {},
   "outputs": [
    {
     "name": "stderr",
     "output_type": "stream",
     "text": [
      "100%|█████████████████████████████████| 82242/82242 [00:00<00:00, 464891.93it/s]\n"
     ]
    }
   ],
   "source": [
    "gme_data['created_utc']\n",
    "\n",
    "date_created = []\n",
    "for time in tqdm(gme_data['created_utc']):\n",
    "    date_created.append(datetime.utcfromtimestamp(time).strftime('%Y-%m-%d'))\n",
    "    \n",
    "gme_data['date_created'] = date_created"
   ]
  },
  {
   "cell_type": "markdown",
   "metadata": {},
   "source": [
    "# Part 3: Word Shifts"
   ]
  },
  {
   "cell_type": "markdown",
   "metadata": {},
   "source": [
    "Dictionary-based methods give us a way to measure the sentiment polarity for a given document. But which words contribute the most to make a document more sad/happy than another? We will now dig into _'Word Shifts'_, a method for understanding which words contribute to increasing or decreasing polarity."
   ]
  },
  {
   "cell_type": "markdown",
   "metadata": {},
   "source": [
    "Start by looking at the video below, where Peter Dodds, one of the authors of the Hedonometer, shows what are __Words Shift__ and how to use them.\n",
    "> **Video**: [Word Shifts by Peter Dodds](https://www.youtube.com/watch?v=Z0M2k8TQ-t8&ab_channel=PeterSheridanDodds)"
   ]
  },
  {
   "cell_type": "markdown",
   "metadata": {},
   "source": [
    "Now, have a look at the video lecture below, where I show how to plot WordShifts in Python. If you watch it carefullly, you will nail the next exercise ;)\n",
    "> **Video Lecture**: [Word Shifts in Python](https://youtu.be/UIv5Aluo-xI)"
   ]
  },
  {
   "cell_type": "code",
   "execution_count": 1,
   "metadata": {},
   "outputs": [
    {
     "data": {
      "image/jpeg": "[encoded data removed]",
      "text/html": [
       "\n",
       "        <iframe\n",
       "            width=\"800\"\n",
       "            height=\"450\"\n",
       "            src=\"https://www.youtube.com/embed/UIv5Aluo-xI\"\n",
       "            frameborder=\"0\"\n",
       "            allowfullscreen\n",
       "            \n",
       "        ></iframe>\n",
       "        "
      ],
      "text/plain": [
       "<IPython.lib.display.YouTubeVideo at 0x7fb1790309a0>"
      ]
     },
     "execution_count": 1,
     "metadata": {},
     "output_type": "execute_result"
    }
   ],
   "source": [
    "from IPython.display import YouTubeVideo\n",
    "YouTubeVideo(\"UIv5Aluo-xI\",width=800, height=450)"
   ]
  },
  {
   "cell_type": "markdown",
   "metadata": {},
   "source": [
    "_Exercise 3: Creating Word Shifts_\n",
    ">    1. Pick a day of your choice in 2020. We call it $d$. It is more interesting if you pick a day where you expect something relevant to occur (e.g. Christmas, New Year, Corona starting, the market crashes...).\n",
    ">    2. Build two lists $l$ and $l_{ref}$ containing all tokens for submissions posted on r/wallstreebets on day $d$, and in the 7 days preceding day $d$, respectively. \n",
    ">    3. For each token $i$, compute the relative frequency in the two lists $l$ and $l_{ref}$. We call them $p(i,l)$ and $p(i,l_{ref})$, respectively. The relative frequency is computed as the number of times a token occurs over the total length of the document. Store the result in a dictionary.\n",
    ">    4. For each token $i$, compute the difference in relative frequency $\\delta p(i) = p(i,l) - p(i,l_{ref})$. Store the values in a dictionary. Print the top 10 tokens (those with largest relative frequency). Do you notice anything interesting?\n",
    ">    5. Now, for each token, compute the happiness $h(i) = labMT(i) - 5$, using the labMT dictionary. Here, we subtract $5$, so that positive tokens will have a positive value and negative tokens will have a negative value. Then, compute the product $\\delta \\Phi = h(i)\\cdot \\delta p(i)$. Store the results in a dictionary. \n",
    ">    6. Print the top 10 tokens, ordered by the absolute value of $|\\delta \\Phi|$. Explain in your own words the meaning of $\\delta \\Phi$. If that is unclear, have a look at [this page](https://shifterator.readthedocs.io/en/latest/cookbook/weighted_avg_shifts.html).\n",
    ">    7. Now install the [``shifterator``](https://shifterator.readthedocs.io/en/latest/installation.html) Python package. We will use it for plotting Word Shifts. \n",
    ">    8. Use the function ``shifterator.WeightedAvgShift`` to plot the WordShift, showing which words contributed the most to make your day of choice _d_ happier or more sad then days in the preceding 7 days. Comment on the figure. \n",
    ">    9. How do words that you printed in step 6 relate to those shown by the WordShift? "
   ]
  },
  {
   "cell_type": "markdown",
   "metadata": {},
   "source": [
    "# Part 4: Let's start thinking about the project assignment"
   ]
  },
  {
   "cell_type": "markdown",
   "metadata": {},
   "source": [
    "In a few weeks, you will start working on your project assignment. Here is just a short exercise for you guys to start thinking about it. "
   ]
  },
  {
   "cell_type": "markdown",
   "metadata": {},
   "source": [
    " _Exercise 4: A Study Project in Computational Social Science._\n",
    "> 1. Read the [Project Assignment](https://github.com/lalessan/comsocsci2022/wiki/Project-Assignment) page, where I explain how to set up a Study Project.\n",
    "> 2. Think of a topic of interest to your would like to study using data downloaded from the Web (Wikipedia, Twitter, Reddit, Facebook, Github, other data sources...), and some of the methods we have seen in this course. \n",
    "> 3. What is the topic? \n",
    "> 4. What is the data? \n",
    "> 5. Write down 3 research questions related to your topic that you would like to investigate.\n",
    "> 6. Put together 1 slide including the answers to points 3,4,5.\n",
    "\n"
   ]
  },
  {
   "cell_type": "code",
   "execution_count": null,
   "metadata": {},
   "outputs": [],
   "source": []
  }
 ],
 "metadata": {
  "anaconda-cloud": {},
  "kernelspec": {
   "display_name": "Python 3 (ipykernel)",
   "language": "python",
   "name": "python3"
  },
  "language_info": {
   "codemirror_mode": {
    "name": "ipython",
    "version": 3
   },
   "file_extension": ".py",
   "mimetype": "text/x-python",
   "name": "python",
   "nbconvert_exporter": "python",
   "pygments_lexer": "ipython3",
   "version": "3.9.7"
  }
 },
 "nbformat": 4,
 "nbformat_minor": 1
}
